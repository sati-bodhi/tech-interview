{
 "cells": [
  {
   "cell_type": "code",
   "execution_count": 1,
   "metadata": {},
   "outputs": [
    {
     "name": "stdout",
     "output_type": "stream",
     "text": [
      "163.7\n",
      "29.049999999999997\n",
      "11.0\n",
      "16.03\n",
      "5.09\n",
      "17.42\n",
      "11.94\n"
     ]
    }
   ],
   "source": [
    "from moviepy.editor import *\n",
    "from typing import List, Tuple\n",
    "\n",
    "os.chdir(\"./koobits\")\n",
    "import video_sourcing as vs\n",
    "\n",
    "def fix_duration(start_time=4) -> List[Tuple[int, int]]:\n",
    "    \"\"\"Calculate video start and end times for sub-clipping.\n",
    "    Start time has been arbitrarily fixed at 4 seconds for all videos,\n",
    "    and can be changed by adding a numeric argument to the function call.\"\"\"\n",
    "\n",
    "    shot = vs.csv_search_terms()\n",
    "    durations_list = [v[2] for (k, v) in shot.items()]\n",
    "\n",
    "    segments = []\n",
    "    for duration in durations_list:\n",
    "        segments.append((start_time, start_time + int(duration)))  # Set all videos to start at 4 seconds\n",
    "\n",
    "    return segments\n",
    "\n",
    "\n",
    "segments = fix_duration()\n",
    "clips = []\n",
    "for i in range(len(segments)):\n",
    "    start, end = segments[i]\n",
    "    clip = VideoFileClip(f\"videos/shot_{i+1}.mp4\").subclip(start, end)\n",
    "    clips.append(clip)\n",
    "    print(clip.duration)"
   ]
  },
  {
   "cell_type": "code",
   "execution_count": 8,
   "metadata": {},
   "outputs": [
    {
     "name": "stdout",
     "output_type": "stream",
     "text": [
      "Interrupt\n"
     ]
    },
    {
     "data": {
      "text/plain": [
       "[]"
      ]
     },
     "execution_count": 8,
     "metadata": {},
     "output_type": "execute_result"
    }
   ],
   "source": [
    "clip = VideoFileClip(f\"videos/shot_1.mp4\")\n",
    "clip = clip.subclip(4,7)\n",
    "clip.preview()"
   ]
  }
 ],
 "metadata": {
  "kernelspec": {
   "display_name": "Python 3",
   "language": "python",
   "name": "python3"
  },
  "language_info": {
   "codemirror_mode": {
    "name": "ipython",
    "version": 3
   },
   "file_extension": ".py",
   "mimetype": "text/x-python",
   "name": "python",
   "nbconvert_exporter": "python",
   "pygments_lexer": "ipython3",
   "version": "3.10.4"
  },
  "toc": {
   "base_numbering": 1,
   "nav_menu": {},
   "number_sections": true,
   "sideBar": true,
   "skip_h1_title": false,
   "title_cell": "Table of Contents",
   "title_sidebar": "Contents",
   "toc_cell": false,
   "toc_position": {},
   "toc_section_display": true,
   "toc_window_display": true
  },
  "varInspector": {
   "cols": {
    "lenName": 16,
    "lenType": 16,
    "lenVar": 40
   },
   "kernels_config": {
    "python": {
     "delete_cmd_postfix": "",
     "delete_cmd_prefix": "del ",
     "library": "var_list.py",
     "varRefreshCmd": "print(var_dic_list())"
    },
    "r": {
     "delete_cmd_postfix": ") ",
     "delete_cmd_prefix": "rm(",
     "library": "var_list.r",
     "varRefreshCmd": "cat(var_dic_list()) "
    }
   },
   "types_to_exclude": [
    "module",
    "function",
    "builtin_function_or_method",
    "instance",
    "_Feature"
   ],
   "window_display": false
  }
 },
 "nbformat": 4,
 "nbformat_minor": 4
}
